{
 "cells": [
  {
   "cell_type": "code",
   "execution_count": 1,
   "id": "ad4b83bc",
   "metadata": {},
   "outputs": [],
   "source": [
    "import numpy as np\n",
    "import pandas as pd"
   ]
  },
  {
   "cell_type": "code",
   "execution_count": 3,
   "id": "b1a0c4cf",
   "metadata": {},
   "outputs": [
    {
     "name": "stdout",
     "output_type": "stream",
     "text": [
      "   48  49  50\n",
      "2   1   2   3\n",
      "A   4   5   6\n",
      "4   7   8   9\n"
     ]
    }
   ],
   "source": [
    "df = pd.DataFrame(data=np.array([[1,2,3], [4,5,6],\n",
    "[7,8,9]]), index = [2,'A', 4], columns=[48,49,50])\n",
    "print(df)"
   ]
  },
  {
   "cell_type": "code",
   "execution_count": 8,
   "id": "df984fa4",
   "metadata": {
    "scrolled": true
   },
   "outputs": [
    {
     "name": "stdout",
     "output_type": "stream",
     "text": [
      "48    7\n",
      "49    8\n",
      "50    9\n",
      "Name: 2, dtype: int32\n",
      "48    7\n",
      "49    8\n",
      "50    9\n",
      "Name: 2, dtype: int32\n"
     ]
    }
   ],
   "source": [
    "print(df.loc[2])\n",
    "print(df.iloc[2])"
   ]
  },
  {
   "cell_type": "code",
   "execution_count": 7,
   "id": "6d490178",
   "metadata": {},
   "outputs": [],
   "source": [
    "# Crie um DataFrame a partir de uma matriz NumPy\n",
    "df = pd.DataFrame(data=np.array([[1, 2, 3], [4, 5, 6], [7, 8, 9]]), columns=[48, 49, 50])\n",
    "\n",
    "# Crie um objeto ExcelWriter para salvar o DataFrame em um arquivo Excel chamado 'myDataFrame.xlsx'\n",
    "writer = pd.ExcelWriter('myDataFrame.xlsx')\n",
    "\n",
    "# Escreva o DataFrame no arquivo Excel, na planilha chamada 'DataFrame'\n",
    "df.to_excel(writer, 'DataFrame')\n",
    "\n",
    "# Salve o arquivo Excel no disco\n",
    "writer.save()"
   ]
  }
 ],
 "metadata": {
  "kernelspec": {
   "display_name": "Python 3 (ipykernel)",
   "language": "python",
   "name": "python3"
  },
  "language_info": {
   "codemirror_mode": {
    "name": "ipython",
    "version": 3
   },
   "file_extension": ".py",
   "mimetype": "text/x-python",
   "name": "python",
   "nbconvert_exporter": "python",
   "pygments_lexer": "ipython3",
   "version": "3.9.13"
  }
 },
 "nbformat": 4,
 "nbformat_minor": 5
}
