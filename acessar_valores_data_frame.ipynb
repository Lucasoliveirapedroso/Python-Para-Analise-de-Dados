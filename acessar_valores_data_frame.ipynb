{
 "cells": [
  {
   "cell_type": "code",
   "execution_count": 1,
   "id": "6ced2e0f",
   "metadata": {},
   "outputs": [],
   "source": [
    "import pandas as pd"
   ]
  },
  {
   "cell_type": "code",
   "execution_count": 3,
   "id": "0bab3f0b",
   "metadata": {},
   "outputs": [
    {
     "name": "stdout",
     "output_type": "stream",
     "text": [
      "        pais   ano  população\n",
      "0     Brasil  2005      170.1\n",
      "1  Argentina  2006       30.5\n",
      "2  Argentina  2005       32.2\n",
      "3     Brasil  2006      172.6\n",
      "4      Chile  2007       40.8\n",
      "5      Chile  2008       42.0\n"
     ]
    }
   ],
   "source": [
    "dt_data = {'pais': ['Brasil', 'Argentina', 'Argentina',\n",
    "'Brasil', 'Chile', 'Chile'],\n",
    "'ano': [2005, 2006, 2005,2006, 2007, 2008],\n",
    "'população': [170.1,30.5, 32.2,172.6,40.8,42.0]}\n",
    "df = pd.DataFrame(dt_data)\n",
    "print(df)"
   ]
  },
  {
   "cell_type": "code",
   "execution_count": 19,
   "id": "3c7c11d1",
   "metadata": {
    "scrolled": true
   },
   "outputs": [
    {
     "name": "stdout",
     "output_type": "stream",
     "text": [
      "Brasil\n"
     ]
    }
   ],
   "source": [
    "# Para imprimir o valor na primeira linha e primeira coluna (Brasil em 2005):\n",
    "print(df.iloc[0, 0])"
   ]
  },
  {
   "cell_type": "code",
   "execution_count": 20,
   "id": "f7ab9617",
   "metadata": {},
   "outputs": [
    {
     "name": "stdout",
     "output_type": "stream",
     "text": [
      "Argentina\n"
     ]
    }
   ],
   "source": [
    "# Para imprimir o valor na segunda linha e primeira coluna (Argentina em 2006):\n",
    "print(df.loc[1, 'pais'])"
   ]
  },
  {
   "cell_type": "code",
   "execution_count": 21,
   "id": "cbeaacb7",
   "metadata": {},
   "outputs": [
    {
     "name": "stdout",
     "output_type": "stream",
     "text": [
      "32.2\n"
     ]
    }
   ],
   "source": [
    "# Para imprimir o valor na terceira linha e coluna 'população' (Argentina em 2005):\n",
    "print(df.at[2, 'população'])"
   ]
  },
  {
   "cell_type": "code",
   "execution_count": 22,
   "id": "551596bf",
   "metadata": {},
   "outputs": [
    {
     "name": "stdout",
     "output_type": "stream",
     "text": [
      "2006\n"
     ]
    }
   ],
   "source": [
    "# Para imprimir o valor na quarta linha e coluna 'ano' (Brasil em 2006):\n",
    "print(df.iat[3, 1])"
   ]
  }
 ],
 "metadata": {
  "kernelspec": {
   "display_name": "Python 3 (ipykernel)",
   "language": "python",
   "name": "python3"
  },
  "language_info": {
   "codemirror_mode": {
    "name": "ipython",
    "version": 3
   },
   "file_extension": ".py",
   "mimetype": "text/x-python",
   "name": "python",
   "nbconvert_exporter": "python",
   "pygments_lexer": "ipython3",
   "version": "3.9.13"
  }
 },
 "nbformat": 4,
 "nbformat_minor": 5
}
